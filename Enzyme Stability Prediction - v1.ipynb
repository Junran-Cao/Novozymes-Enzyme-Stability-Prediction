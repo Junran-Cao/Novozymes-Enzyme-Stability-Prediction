{
 "cells": [
  {
   "cell_type": "markdown",
   "id": "994a225e-f785-461d-8d7a-a9dc2ad49bbb",
   "metadata": {},
   "source": [
    "# Enzyme Stability Prediction"
   ]
  },
  {
   "cell_type": "markdown",
   "id": "7ac52004-2d3a-4212-9ec2-c7f2d4ec8117",
   "metadata": {},
   "source": [
    "Last updated: 4 Jan 2023"
   ]
  },
  {
   "cell_type": "markdown",
   "id": "5e26694c-d455-49da-bbd8-c5eaf601048f",
   "metadata": {},
   "source": [
    "## 0. Import and fix input data"
   ]
  },
  {
   "cell_type": "code",
   "execution_count": 1,
   "id": "8956f6a7-db1a-4a8e-91a3-8b3c084cbc50",
   "metadata": {
    "execution": {
     "iopub.execute_input": "2023-01-04T13:35:35.723202Z",
     "iopub.status.busy": "2023-01-04T13:35:35.722564Z",
     "iopub.status.idle": "2023-01-04T13:35:35.733877Z",
     "shell.execute_reply": "2023-01-04T13:35:35.733221Z",
     "shell.execute_reply.started": "2023-01-04T13:35:35.723092Z"
    },
    "tags": []
   },
   "outputs": [],
   "source": [
    "import zipfile"
   ]
  },
  {
   "cell_type": "code",
   "execution_count": 2,
   "id": "ffa1860b-a298-427c-a078-8ce266bb2f97",
   "metadata": {
    "execution": {
     "iopub.execute_input": "2023-01-04T13:35:35.735469Z",
     "iopub.status.busy": "2023-01-04T13:35:35.735207Z",
     "iopub.status.idle": "2023-01-04T13:35:35.897811Z",
     "shell.execute_reply": "2023-01-04T13:35:35.897082Z",
     "shell.execute_reply.started": "2023-01-04T13:35:35.735447Z"
    },
    "tags": []
   },
   "outputs": [],
   "source": [
    "with zipfile.ZipFile(\"/home/jovyan/Data/novozymes-enzyme-stability-prediction.zip\", 'r') as zip_ref:\n",
    "    zip_ref.extractall(\"/home/jovyan/Data\")"
   ]
  },
  {
   "cell_type": "code",
   "execution_count": 3,
   "id": "7c2c88a4-9e8f-4f13-9a4d-2586431f2918",
   "metadata": {
    "execution": {
     "iopub.execute_input": "2023-01-04T13:35:35.899271Z",
     "iopub.status.busy": "2023-01-04T13:35:35.898952Z",
     "iopub.status.idle": "2023-01-04T13:35:36.264017Z",
     "shell.execute_reply": "2023-01-04T13:35:36.263438Z",
     "shell.execute_reply.started": "2023-01-04T13:35:35.899246Z"
    },
    "tags": []
   },
   "outputs": [],
   "source": [
    "import numpy as np\n",
    "import pandas as pd"
   ]
  },
  {
   "cell_type": "code",
   "execution_count": 4,
   "id": "db119a8e-f712-4ffe-9d1b-d917609d1535",
   "metadata": {
    "execution": {
     "iopub.execute_input": "2023-01-04T13:35:36.265200Z",
     "iopub.status.busy": "2023-01-04T13:35:36.264895Z",
     "iopub.status.idle": "2023-01-04T13:35:36.435714Z",
     "shell.execute_reply": "2023-01-04T13:35:36.435018Z",
     "shell.execute_reply.started": "2023-01-04T13:35:36.265176Z"
    },
    "tags": []
   },
   "outputs": [],
   "source": [
    "train_1 = pd.read_csv(\"/home/jovyan/Data/train.csv\")\n",
    "train_2 = pd.read_csv(\"/home/jovyan/Data/train_updates_20220929.csv\")\n",
    "\n",
    "test_set = pd.read_csv(\"/home/jovyan/Data/test.csv\")"
   ]
  },
  {
   "cell_type": "code",
   "execution_count": 5,
   "id": "21ac5d94-aeb4-4e8b-9252-21f282a41d9a",
   "metadata": {
    "execution": {
     "iopub.execute_input": "2023-01-04T13:35:36.438540Z",
     "iopub.status.busy": "2023-01-04T13:35:36.438116Z",
     "iopub.status.idle": "2023-01-04T13:35:36.442208Z",
     "shell.execute_reply": "2023-01-04T13:35:36.441594Z",
     "shell.execute_reply.started": "2023-01-04T13:35:36.438505Z"
    },
    "tags": []
   },
   "outputs": [],
   "source": [
    "#train_2.loc[pd.isna(train_2[\"tm\"]) == False,:]"
   ]
  },
  {
   "cell_type": "code",
   "execution_count": 6,
   "id": "5f140825-82c6-453a-abf3-67a6b230ef3c",
   "metadata": {
    "execution": {
     "iopub.execute_input": "2023-01-04T13:35:36.443525Z",
     "iopub.status.busy": "2023-01-04T13:35:36.443049Z",
     "iopub.status.idle": "2023-01-04T13:35:36.464838Z",
     "shell.execute_reply": "2023-01-04T13:35:36.464129Z",
     "shell.execute_reply.started": "2023-01-04T13:35:36.443490Z"
    },
    "tags": []
   },
   "outputs": [],
   "source": [
    "train = pd.merge(left = train_1, right = train_2, left_on = \"seq_id\", right_on = \"seq_id\", how = \"left\")\n",
    "train = train.sort_values(by = \"seq_id\")"
   ]
  },
  {
   "cell_type": "code",
   "execution_count": 7,
   "id": "b4f1c1af-85d6-4287-881e-58772ed18ed6",
   "metadata": {
    "execution": {
     "iopub.execute_input": "2023-01-04T13:35:36.466294Z",
     "iopub.status.busy": "2023-01-04T13:35:36.465914Z",
     "iopub.status.idle": "2023-01-04T13:35:36.478250Z",
     "shell.execute_reply": "2023-01-04T13:35:36.477603Z",
     "shell.execute_reply.started": "2023-01-04T13:35:36.466263Z"
    },
    "tags": []
   },
   "outputs": [],
   "source": [
    "train[\"protein_sequence\"] = np.where(pd.isna(train[\"protein_sequence_y\"]) == False, train[\"protein_sequence_y\"], train[\"protein_sequence_x\"])\n",
    "\n",
    "train[\"pH\"] = np.where(pd.isna(train[\"pH_y\"]) == False, train[\"pH_y\"], train[\"pH_x\"])\n",
    "\n",
    "train[\"tm\"] = np.where(pd.isna(train[\"tm_y\"]) == False, train[\"tm_y\"], train[\"tm_x\"])"
   ]
  },
  {
   "cell_type": "code",
   "execution_count": 8,
   "id": "7ed2f2ae-5a15-4c53-aa61-7eedd4b63a76",
   "metadata": {
    "execution": {
     "iopub.execute_input": "2023-01-04T13:35:36.479412Z",
     "iopub.status.busy": "2023-01-04T13:35:36.479133Z",
     "iopub.status.idle": "2023-01-04T13:35:36.489769Z",
     "shell.execute_reply": "2023-01-04T13:35:36.489120Z",
     "shell.execute_reply.started": "2023-01-04T13:35:36.479390Z"
    },
    "tags": []
   },
   "outputs": [],
   "source": [
    "train = train[[\"seq_id\",\"protein_sequence\",\"pH\",\"tm\"]]"
   ]
  },
  {
   "cell_type": "code",
   "execution_count": 9,
   "id": "35001028-9ba5-4cb1-919c-55e950572fd7",
   "metadata": {
    "execution": {
     "iopub.execute_input": "2023-01-04T13:35:36.491414Z",
     "iopub.status.busy": "2023-01-04T13:35:36.491030Z",
     "iopub.status.idle": "2023-01-04T13:35:36.511604Z",
     "shell.execute_reply": "2023-01-04T13:35:36.510837Z",
     "shell.execute_reply.started": "2023-01-04T13:35:36.491388Z"
    },
    "tags": []
   },
   "outputs": [
    {
     "data": {
      "text/html": [
       "<div>\n",
       "<style scoped>\n",
       "    .dataframe tbody tr th:only-of-type {\n",
       "        vertical-align: middle;\n",
       "    }\n",
       "\n",
       "    .dataframe tbody tr th {\n",
       "        vertical-align: top;\n",
       "    }\n",
       "\n",
       "    .dataframe thead th {\n",
       "        text-align: right;\n",
       "    }\n",
       "</style>\n",
       "<table border=\"1\" class=\"dataframe\">\n",
       "  <thead>\n",
       "    <tr style=\"text-align: right;\">\n",
       "      <th></th>\n",
       "      <th>seq_id</th>\n",
       "      <th>protein_sequence</th>\n",
       "      <th>pH</th>\n",
       "      <th>tm</th>\n",
       "    </tr>\n",
       "  </thead>\n",
       "  <tbody>\n",
       "    <tr>\n",
       "      <th>0</th>\n",
       "      <td>0</td>\n",
       "      <td>AAAAKAAALALLGEAPEVVDIWLPAGWRQPFRVFRLERKGDGVLVG...</td>\n",
       "      <td>7.0</td>\n",
       "      <td>75.7</td>\n",
       "    </tr>\n",
       "    <tr>\n",
       "      <th>1</th>\n",
       "      <td>1</td>\n",
       "      <td>AAADGEPLHNEEERAGAGQVGRSLPQESEEQRTGSRPRRRRDLGSR...</td>\n",
       "      <td>7.0</td>\n",
       "      <td>50.5</td>\n",
       "    </tr>\n",
       "    <tr>\n",
       "      <th>2</th>\n",
       "      <td>2</td>\n",
       "      <td>AAAFSTPRATSYRILSSAGSGSTRADAPQVRRLHTTRDLLAKDYYA...</td>\n",
       "      <td>7.0</td>\n",
       "      <td>40.5</td>\n",
       "    </tr>\n",
       "    <tr>\n",
       "      <th>3</th>\n",
       "      <td>3</td>\n",
       "      <td>AAASGLRTAIPAQPLRHLLQPAPRPCLRPFGLLSVRAGSARRSGLL...</td>\n",
       "      <td>7.0</td>\n",
       "      <td>47.2</td>\n",
       "    </tr>\n",
       "    <tr>\n",
       "      <th>4</th>\n",
       "      <td>4</td>\n",
       "      <td>AAATKSGPRRQSQGASVRTFTPFYFLVEPVDTLSVRGSSVILNCSA...</td>\n",
       "      <td>7.0</td>\n",
       "      <td>49.5</td>\n",
       "    </tr>\n",
       "    <tr>\n",
       "      <th>...</th>\n",
       "      <td>...</td>\n",
       "      <td>...</td>\n",
       "      <td>...</td>\n",
       "      <td>...</td>\n",
       "    </tr>\n",
       "    <tr>\n",
       "      <th>31385</th>\n",
       "      <td>31385</td>\n",
       "      <td>YYMYSGGGSALAAGGGGAGRKGDWNDIDSIKKKDLHHSRGDEKAQG...</td>\n",
       "      <td>7.0</td>\n",
       "      <td>51.8</td>\n",
       "    </tr>\n",
       "    <tr>\n",
       "      <th>31386</th>\n",
       "      <td>31386</td>\n",
       "      <td>YYNDQHRLSSYSVETAMFLSWERAIVKPGAMFKKAVIGFNCNVDLI...</td>\n",
       "      <td>7.0</td>\n",
       "      <td>37.2</td>\n",
       "    </tr>\n",
       "    <tr>\n",
       "      <th>31387</th>\n",
       "      <td>31387</td>\n",
       "      <td>YYQRTLGAELLYKISFGEMPKSAQDSAENCPSGMQFPDTAIAHANV...</td>\n",
       "      <td>7.0</td>\n",
       "      <td>64.6</td>\n",
       "    </tr>\n",
       "    <tr>\n",
       "      <th>31388</th>\n",
       "      <td>31388</td>\n",
       "      <td>YYSFSDNITTVFLSRQAIDDDHSLSLGTISDVVESENGVVAADDAR...</td>\n",
       "      <td>7.0</td>\n",
       "      <td>50.7</td>\n",
       "    </tr>\n",
       "    <tr>\n",
       "      <th>31389</th>\n",
       "      <td>31389</td>\n",
       "      <td>YYVPDEYWQSLEVAHKLTFGYGYLTWEWVQGIRSYVYPLLIAGLYK...</td>\n",
       "      <td>7.0</td>\n",
       "      <td>37.6</td>\n",
       "    </tr>\n",
       "  </tbody>\n",
       "</table>\n",
       "<p>31390 rows × 4 columns</p>\n",
       "</div>"
      ],
      "text/plain": [
       "       seq_id                                   protein_sequence   pH    tm\n",
       "0           0  AAAAKAAALALLGEAPEVVDIWLPAGWRQPFRVFRLERKGDGVLVG...  7.0  75.7\n",
       "1           1  AAADGEPLHNEEERAGAGQVGRSLPQESEEQRTGSRPRRRRDLGSR...  7.0  50.5\n",
       "2           2  AAAFSTPRATSYRILSSAGSGSTRADAPQVRRLHTTRDLLAKDYYA...  7.0  40.5\n",
       "3           3  AAASGLRTAIPAQPLRHLLQPAPRPCLRPFGLLSVRAGSARRSGLL...  7.0  47.2\n",
       "4           4  AAATKSGPRRQSQGASVRTFTPFYFLVEPVDTLSVRGSSVILNCSA...  7.0  49.5\n",
       "...       ...                                                ...  ...   ...\n",
       "31385   31385  YYMYSGGGSALAAGGGGAGRKGDWNDIDSIKKKDLHHSRGDEKAQG...  7.0  51.8\n",
       "31386   31386  YYNDQHRLSSYSVETAMFLSWERAIVKPGAMFKKAVIGFNCNVDLI...  7.0  37.2\n",
       "31387   31387  YYQRTLGAELLYKISFGEMPKSAQDSAENCPSGMQFPDTAIAHANV...  7.0  64.6\n",
       "31388   31388  YYSFSDNITTVFLSRQAIDDDHSLSLGTISDVVESENGVVAADDAR...  7.0  50.7\n",
       "31389   31389  YYVPDEYWQSLEVAHKLTFGYGYLTWEWVQGIRSYVYPLLIAGLYK...  7.0  37.6\n",
       "\n",
       "[31390 rows x 4 columns]"
      ]
     },
     "execution_count": 9,
     "metadata": {},
     "output_type": "execute_result"
    }
   ],
   "source": [
    "train"
   ]
  },
  {
   "cell_type": "code",
   "execution_count": 10,
   "id": "150656f2-1099-44e5-bae5-cb1e06039959",
   "metadata": {
    "execution": {
     "iopub.execute_input": "2023-01-04T13:35:36.514368Z",
     "iopub.status.busy": "2023-01-04T13:35:36.512550Z",
     "iopub.status.idle": "2023-01-04T13:35:36.519318Z",
     "shell.execute_reply": "2023-01-04T13:35:36.518530Z",
     "shell.execute_reply.started": "2023-01-04T13:35:36.514344Z"
    }
   },
   "outputs": [
    {
     "data": {
      "text/plain": [
       "(31390, 4)"
      ]
     },
     "execution_count": 10,
     "metadata": {},
     "output_type": "execute_result"
    }
   ],
   "source": [
    "train.shape"
   ]
  },
  {
   "cell_type": "code",
   "execution_count": 11,
   "id": "1ac242a9-9683-4836-870b-d63ec2eb36b3",
   "metadata": {
    "execution": {
     "iopub.execute_input": "2023-01-04T13:35:36.520705Z",
     "iopub.status.busy": "2023-01-04T13:35:36.520406Z",
     "iopub.status.idle": "2023-01-04T13:35:36.525642Z",
     "shell.execute_reply": "2023-01-04T13:35:36.524878Z",
     "shell.execute_reply.started": "2023-01-04T13:35:36.520683Z"
    }
   },
   "outputs": [
    {
     "data": {
      "text/plain": [
       "(2413, 4)"
      ]
     },
     "execution_count": 11,
     "metadata": {},
     "output_type": "execute_result"
    }
   ],
   "source": [
    "test_set.shape"
   ]
  },
  {
   "cell_type": "code",
   "execution_count": 12,
   "id": "c48f0a0b-1772-4fc6-94fa-a435ba835575",
   "metadata": {
    "execution": {
     "iopub.execute_input": "2023-01-04T13:35:36.527372Z",
     "iopub.status.busy": "2023-01-04T13:35:36.526628Z",
     "iopub.status.idle": "2023-01-04T13:35:36.544254Z",
     "shell.execute_reply": "2023-01-04T13:35:36.543684Z",
     "shell.execute_reply.started": "2023-01-04T13:35:36.527341Z"
    }
   },
   "outputs": [
    {
     "data": {
      "text/html": [
       "<div>\n",
       "<style scoped>\n",
       "    .dataframe tbody tr th:only-of-type {\n",
       "        vertical-align: middle;\n",
       "    }\n",
       "\n",
       "    .dataframe tbody tr th {\n",
       "        vertical-align: top;\n",
       "    }\n",
       "\n",
       "    .dataframe thead th {\n",
       "        text-align: right;\n",
       "    }\n",
       "</style>\n",
       "<table border=\"1\" class=\"dataframe\">\n",
       "  <thead>\n",
       "    <tr style=\"text-align: right;\">\n",
       "      <th></th>\n",
       "      <th>seq_id</th>\n",
       "      <th>protein_sequence</th>\n",
       "      <th>pH</th>\n",
       "      <th>tm</th>\n",
       "      <th>data_source</th>\n",
       "    </tr>\n",
       "  </thead>\n",
       "  <tbody>\n",
       "    <tr>\n",
       "      <th>0</th>\n",
       "      <td>0</td>\n",
       "      <td>AAAAKAAALALLGEAPEVVDIWLPAGWRQPFRVFRLERKGDGVLVG...</td>\n",
       "      <td>7.0</td>\n",
       "      <td>75.7</td>\n",
       "      <td>NaN</td>\n",
       "    </tr>\n",
       "    <tr>\n",
       "      <th>1</th>\n",
       "      <td>1</td>\n",
       "      <td>AAADGEPLHNEEERAGAGQVGRSLPQESEEQRTGSRPRRRRDLGSR...</td>\n",
       "      <td>7.0</td>\n",
       "      <td>50.5</td>\n",
       "      <td>NaN</td>\n",
       "    </tr>\n",
       "    <tr>\n",
       "      <th>2</th>\n",
       "      <td>2</td>\n",
       "      <td>AAAFSTPRATSYRILSSAGSGSTRADAPQVRRLHTTRDLLAKDYYA...</td>\n",
       "      <td>7.0</td>\n",
       "      <td>40.5</td>\n",
       "      <td>NaN</td>\n",
       "    </tr>\n",
       "    <tr>\n",
       "      <th>3</th>\n",
       "      <td>3</td>\n",
       "      <td>AAASGLRTAIPAQPLRHLLQPAPRPCLRPFGLLSVRAGSARRSGLL...</td>\n",
       "      <td>7.0</td>\n",
       "      <td>47.2</td>\n",
       "      <td>NaN</td>\n",
       "    </tr>\n",
       "    <tr>\n",
       "      <th>4</th>\n",
       "      <td>4</td>\n",
       "      <td>AAATKSGPRRQSQGASVRTFTPFYFLVEPVDTLSVRGSSVILNCSA...</td>\n",
       "      <td>7.0</td>\n",
       "      <td>49.5</td>\n",
       "      <td>NaN</td>\n",
       "    </tr>\n",
       "    <tr>\n",
       "      <th>...</th>\n",
       "      <td>...</td>\n",
       "      <td>...</td>\n",
       "      <td>...</td>\n",
       "      <td>...</td>\n",
       "      <td>...</td>\n",
       "    </tr>\n",
       "    <tr>\n",
       "      <th>2408</th>\n",
       "      <td>33798</td>\n",
       "      <td>VPVNPEPDATSVENVILKTGSGDSQSDPIKADLEVKGQSALPFDVD...</td>\n",
       "      <td>8.0</td>\n",
       "      <td>NaN</td>\n",
       "      <td>Novozymes</td>\n",
       "    </tr>\n",
       "    <tr>\n",
       "      <th>2409</th>\n",
       "      <td>33799</td>\n",
       "      <td>VPVNPEPDATSVENVLLKTGSGDSQSDPIKADLEVKGQSALPFDVD...</td>\n",
       "      <td>8.0</td>\n",
       "      <td>NaN</td>\n",
       "      <td>Novozymes</td>\n",
       "    </tr>\n",
       "    <tr>\n",
       "      <th>2410</th>\n",
       "      <td>33800</td>\n",
       "      <td>VPVNPEPDATSVENVNLKTGSGDSQSDPIKADLEVKGQSALPFDVD...</td>\n",
       "      <td>8.0</td>\n",
       "      <td>NaN</td>\n",
       "      <td>Novozymes</td>\n",
       "    </tr>\n",
       "    <tr>\n",
       "      <th>2411</th>\n",
       "      <td>33801</td>\n",
       "      <td>VPVNPEPDATSVENVPLKTGSGDSQSDPIKADLEVKGQSALPFDVD...</td>\n",
       "      <td>8.0</td>\n",
       "      <td>NaN</td>\n",
       "      <td>Novozymes</td>\n",
       "    </tr>\n",
       "    <tr>\n",
       "      <th>2412</th>\n",
       "      <td>33802</td>\n",
       "      <td>VPVNPEPDATSVENVWLKTGSGDSQSDPIKADLEVKGQSALPFDVD...</td>\n",
       "      <td>8.0</td>\n",
       "      <td>NaN</td>\n",
       "      <td>Novozymes</td>\n",
       "    </tr>\n",
       "  </tbody>\n",
       "</table>\n",
       "<p>33803 rows × 5 columns</p>\n",
       "</div>"
      ],
      "text/plain": [
       "      seq_id                                   protein_sequence   pH    tm  \\\n",
       "0          0  AAAAKAAALALLGEAPEVVDIWLPAGWRQPFRVFRLERKGDGVLVG...  7.0  75.7   \n",
       "1          1  AAADGEPLHNEEERAGAGQVGRSLPQESEEQRTGSRPRRRRDLGSR...  7.0  50.5   \n",
       "2          2  AAAFSTPRATSYRILSSAGSGSTRADAPQVRRLHTTRDLLAKDYYA...  7.0  40.5   \n",
       "3          3  AAASGLRTAIPAQPLRHLLQPAPRPCLRPFGLLSVRAGSARRSGLL...  7.0  47.2   \n",
       "4          4  AAATKSGPRRQSQGASVRTFTPFYFLVEPVDTLSVRGSSVILNCSA...  7.0  49.5   \n",
       "...      ...                                                ...  ...   ...   \n",
       "2408   33798  VPVNPEPDATSVENVILKTGSGDSQSDPIKADLEVKGQSALPFDVD...  8.0   NaN   \n",
       "2409   33799  VPVNPEPDATSVENVLLKTGSGDSQSDPIKADLEVKGQSALPFDVD...  8.0   NaN   \n",
       "2410   33800  VPVNPEPDATSVENVNLKTGSGDSQSDPIKADLEVKGQSALPFDVD...  8.0   NaN   \n",
       "2411   33801  VPVNPEPDATSVENVPLKTGSGDSQSDPIKADLEVKGQSALPFDVD...  8.0   NaN   \n",
       "2412   33802  VPVNPEPDATSVENVWLKTGSGDSQSDPIKADLEVKGQSALPFDVD...  8.0   NaN   \n",
       "\n",
       "     data_source  \n",
       "0            NaN  \n",
       "1            NaN  \n",
       "2            NaN  \n",
       "3            NaN  \n",
       "4            NaN  \n",
       "...          ...  \n",
       "2408   Novozymes  \n",
       "2409   Novozymes  \n",
       "2410   Novozymes  \n",
       "2411   Novozymes  \n",
       "2412   Novozymes  \n",
       "\n",
       "[33803 rows x 5 columns]"
      ]
     },
     "execution_count": 12,
     "metadata": {},
     "output_type": "execute_result"
    }
   ],
   "source": [
    "pd.concat([train,test_set], axis = \"index\")"
   ]
  },
  {
   "cell_type": "code",
   "execution_count": 13,
   "id": "1f850002-50c7-42f4-b850-2e068d91f848",
   "metadata": {
    "execution": {
     "iopub.execute_input": "2023-01-04T13:35:36.545292Z",
     "iopub.status.busy": "2023-01-04T13:35:36.545083Z",
     "iopub.status.idle": "2023-01-04T13:35:36.567390Z",
     "shell.execute_reply": "2023-01-04T13:35:36.566625Z",
     "shell.execute_reply.started": "2023-01-04T13:35:36.545272Z"
    },
    "tags": []
   },
   "outputs": [],
   "source": [
    "protein_length = []\n",
    "\n",
    "for i in train[\"protein_sequence\"]:\n",
    "    protein_length.append(len(i))\n",
    "    \n",
    "protein_length = pd.DataFrame(protein_length, columns = [\"length of protein sequence\"])"
   ]
  },
  {
   "cell_type": "code",
   "execution_count": 14,
   "id": "f12fa1e2-ac7b-4cdb-b259-512a4d0ab597",
   "metadata": {
    "execution": {
     "iopub.execute_input": "2023-01-04T13:35:36.572880Z",
     "iopub.status.busy": "2023-01-04T13:35:36.572556Z",
     "iopub.status.idle": "2023-01-04T13:35:36.587539Z",
     "shell.execute_reply": "2023-01-04T13:35:36.586830Z",
     "shell.execute_reply.started": "2023-01-04T13:35:36.572849Z"
    },
    "tags": []
   },
   "outputs": [
    {
     "data": {
      "text/html": [
       "<div>\n",
       "<style scoped>\n",
       "    .dataframe tbody tr th:only-of-type {\n",
       "        vertical-align: middle;\n",
       "    }\n",
       "\n",
       "    .dataframe tbody tr th {\n",
       "        vertical-align: top;\n",
       "    }\n",
       "\n",
       "    .dataframe thead th {\n",
       "        text-align: right;\n",
       "    }\n",
       "</style>\n",
       "<table border=\"1\" class=\"dataframe\">\n",
       "  <thead>\n",
       "    <tr style=\"text-align: right;\">\n",
       "      <th></th>\n",
       "      <th>length of protein sequence</th>\n",
       "    </tr>\n",
       "  </thead>\n",
       "  <tbody>\n",
       "    <tr>\n",
       "      <th>count</th>\n",
       "      <td>31390.000000</td>\n",
       "    </tr>\n",
       "    <tr>\n",
       "      <th>mean</th>\n",
       "      <td>447.669513</td>\n",
       "    </tr>\n",
       "    <tr>\n",
       "      <th>std</th>\n",
       "      <td>640.728935</td>\n",
       "    </tr>\n",
       "    <tr>\n",
       "      <th>min</th>\n",
       "      <td>5.000000</td>\n",
       "    </tr>\n",
       "    <tr>\n",
       "      <th>25%</th>\n",
       "      <td>197.000000</td>\n",
       "    </tr>\n",
       "    <tr>\n",
       "      <th>50%</th>\n",
       "      <td>336.000000</td>\n",
       "    </tr>\n",
       "    <tr>\n",
       "      <th>75%</th>\n",
       "      <td>523.000000</td>\n",
       "    </tr>\n",
       "    <tr>\n",
       "      <th>max</th>\n",
       "      <td>32767.000000</td>\n",
       "    </tr>\n",
       "  </tbody>\n",
       "</table>\n",
       "</div>"
      ],
      "text/plain": [
       "       length of protein sequence\n",
       "count                31390.000000\n",
       "mean                   447.669513\n",
       "std                    640.728935\n",
       "min                      5.000000\n",
       "25%                    197.000000\n",
       "50%                    336.000000\n",
       "75%                    523.000000\n",
       "max                  32767.000000"
      ]
     },
     "execution_count": 14,
     "metadata": {},
     "output_type": "execute_result"
    }
   ],
   "source": [
    "protein_length.describe()"
   ]
  },
  {
   "cell_type": "markdown",
   "id": "c0b12497-ff8a-499b-9504-99fc30207297",
   "metadata": {},
   "source": [
    "## 1. Feature engineering"
   ]
  },
  {
   "cell_type": "code",
   "execution_count": 15,
   "id": "ba1c5301-a15d-4162-a7cb-2e40e7b72730",
   "metadata": {
    "execution": {
     "iopub.execute_input": "2023-01-04T13:35:36.588798Z",
     "iopub.status.busy": "2023-01-04T13:35:36.588473Z",
     "iopub.status.idle": "2023-01-04T13:35:36.912043Z",
     "shell.execute_reply": "2023-01-04T13:35:36.911348Z",
     "shell.execute_reply.started": "2023-01-04T13:35:36.588777Z"
    },
    "tags": []
   },
   "outputs": [],
   "source": [
    "from sklearn.preprocessing import OneHotEncoder"
   ]
  },
  {
   "cell_type": "code",
   "execution_count": 16,
   "id": "40dd6dbd-fc69-4881-bb76-06c27a1030b5",
   "metadata": {
    "execution": {
     "iopub.execute_input": "2023-01-04T13:35:36.913294Z",
     "iopub.status.busy": "2023-01-04T13:35:36.912968Z",
     "iopub.status.idle": "2023-01-04T13:35:36.917855Z",
     "shell.execute_reply": "2023-01-04T13:35:36.917111Z",
     "shell.execute_reply.started": "2023-01-04T13:35:36.913272Z"
    },
    "tags": []
   },
   "outputs": [
    {
     "data": {
      "text/plain": [
       "'1.2.0'"
      ]
     },
     "execution_count": 16,
     "metadata": {},
     "output_type": "execute_result"
    }
   ],
   "source": [
    "import sklearn\n",
    "sklearn.__version__"
   ]
  },
  {
   "cell_type": "code",
   "execution_count": 17,
   "id": "30b6070b-605a-4e5a-ad62-0e5aa628affd",
   "metadata": {
    "execution": {
     "iopub.execute_input": "2023-01-04T13:35:36.919234Z",
     "iopub.status.busy": "2023-01-04T13:35:36.918927Z",
     "iopub.status.idle": "2023-01-04T13:35:36.922081Z",
     "shell.execute_reply": "2023-01-04T13:35:36.921497Z",
     "shell.execute_reply.started": "2023-01-04T13:35:36.919214Z"
    },
    "tags": []
   },
   "outputs": [],
   "source": [
    "encoder = OneHotEncoder(sparse_output = True,\n",
    "                        drop = \"first\") # to avoid perfect multicollinearity"
   ]
  },
  {
   "cell_type": "code",
   "execution_count": 18,
   "id": "0189a934-f9b7-4b5e-9c6a-3b0a2e48bc97",
   "metadata": {
    "execution": {
     "iopub.execute_input": "2023-01-04T13:35:36.923248Z",
     "iopub.status.busy": "2023-01-04T13:35:36.922993Z",
     "iopub.status.idle": "2023-01-04T13:35:37.038572Z",
     "shell.execute_reply": "2023-01-04T13:35:37.037799Z",
     "shell.execute_reply.started": "2023-01-04T13:35:36.923227Z"
    },
    "tags": []
   },
   "outputs": [
    {
     "data": {
      "text/plain": [
       "<31390x31393 sparse matrix of type '<class 'numpy.float64'>'\n",
       "\twith 31389 stored elements in Compressed Sparse Row format>"
      ]
     },
     "execution_count": 18,
     "metadata": {},
     "output_type": "execute_result"
    }
   ],
   "source": [
    "#X1 = encoder.fit_transform(train[[\"protein_sequence\"]])\n",
    "X1 = encoder.fit_transform(pd.concat([train,test_set], axis = \"index\")[[\"protein_sequence\"]])\n",
    "X1 = X1[:len(train)]\n",
    "X1"
   ]
  },
  {
   "cell_type": "code",
   "execution_count": 19,
   "id": "081a31d1-34cd-4e13-afab-d2ccd3e8865d",
   "metadata": {
    "execution": {
     "iopub.execute_input": "2023-01-04T13:35:37.040229Z",
     "iopub.status.busy": "2023-01-04T13:35:37.039817Z",
     "iopub.status.idle": "2023-01-04T13:35:37.043883Z",
     "shell.execute_reply": "2023-01-04T13:35:37.043240Z",
     "shell.execute_reply.started": "2023-01-04T13:35:37.040194Z"
    },
    "tags": []
   },
   "outputs": [],
   "source": [
    "import scipy"
   ]
  },
  {
   "cell_type": "code",
   "execution_count": 20,
   "id": "93c6a1b9-8400-4d14-9207-fdb50c222cb4",
   "metadata": {
    "execution": {
     "iopub.execute_input": "2023-01-04T13:35:37.045094Z",
     "iopub.status.busy": "2023-01-04T13:35:37.044824Z",
     "iopub.status.idle": "2023-01-04T13:35:37.054311Z",
     "shell.execute_reply": "2023-01-04T13:35:37.053590Z",
     "shell.execute_reply.started": "2023-01-04T13:35:37.045072Z"
    },
    "tags": []
   },
   "outputs": [
    {
     "data": {
      "text/html": [
       "<div>\n",
       "<style scoped>\n",
       "    .dataframe tbody tr th:only-of-type {\n",
       "        vertical-align: middle;\n",
       "    }\n",
       "\n",
       "    .dataframe tbody tr th {\n",
       "        vertical-align: top;\n",
       "    }\n",
       "\n",
       "    .dataframe thead th {\n",
       "        text-align: right;\n",
       "    }\n",
       "</style>\n",
       "<table border=\"1\" class=\"dataframe\">\n",
       "  <thead>\n",
       "    <tr style=\"text-align: right;\">\n",
       "      <th></th>\n",
       "      <th>pH</th>\n",
       "    </tr>\n",
       "  </thead>\n",
       "  <tbody>\n",
       "    <tr>\n",
       "      <th>0</th>\n",
       "      <td>7.0</td>\n",
       "    </tr>\n",
       "    <tr>\n",
       "      <th>1</th>\n",
       "      <td>7.0</td>\n",
       "    </tr>\n",
       "    <tr>\n",
       "      <th>2</th>\n",
       "      <td>7.0</td>\n",
       "    </tr>\n",
       "    <tr>\n",
       "      <th>3</th>\n",
       "      <td>7.0</td>\n",
       "    </tr>\n",
       "    <tr>\n",
       "      <th>4</th>\n",
       "      <td>7.0</td>\n",
       "    </tr>\n",
       "    <tr>\n",
       "      <th>...</th>\n",
       "      <td>...</td>\n",
       "    </tr>\n",
       "    <tr>\n",
       "      <th>31385</th>\n",
       "      <td>7.0</td>\n",
       "    </tr>\n",
       "    <tr>\n",
       "      <th>31386</th>\n",
       "      <td>7.0</td>\n",
       "    </tr>\n",
       "    <tr>\n",
       "      <th>31387</th>\n",
       "      <td>7.0</td>\n",
       "    </tr>\n",
       "    <tr>\n",
       "      <th>31388</th>\n",
       "      <td>7.0</td>\n",
       "    </tr>\n",
       "    <tr>\n",
       "      <th>31389</th>\n",
       "      <td>7.0</td>\n",
       "    </tr>\n",
       "  </tbody>\n",
       "</table>\n",
       "<p>31390 rows × 1 columns</p>\n",
       "</div>"
      ],
      "text/plain": [
       "        pH\n",
       "0      7.0\n",
       "1      7.0\n",
       "2      7.0\n",
       "3      7.0\n",
       "4      7.0\n",
       "...    ...\n",
       "31385  7.0\n",
       "31386  7.0\n",
       "31387  7.0\n",
       "31388  7.0\n",
       "31389  7.0\n",
       "\n",
       "[31390 rows x 1 columns]"
      ]
     },
     "execution_count": 20,
     "metadata": {},
     "output_type": "execute_result"
    }
   ],
   "source": [
    "X2 = train[[\"pH\"]]\n",
    "X2"
   ]
  },
  {
   "cell_type": "code",
   "execution_count": 21,
   "id": "f6cffe49-57ea-471d-ab27-7134cda518dd",
   "metadata": {
    "execution": {
     "iopub.execute_input": "2023-01-04T13:35:37.057682Z",
     "iopub.status.busy": "2023-01-04T13:35:37.057168Z",
     "iopub.status.idle": "2023-01-04T13:35:37.068775Z",
     "shell.execute_reply": "2023-01-04T13:35:37.068168Z",
     "shell.execute_reply.started": "2023-01-04T13:35:37.057659Z"
    },
    "tags": []
   },
   "outputs": [
    {
     "data": {
      "text/plain": [
       "<31390x31394 sparse matrix of type '<class 'numpy.float64'>'\n",
       "\twith 62779 stored elements in COOrdinate format>"
      ]
     },
     "execution_count": 21,
     "metadata": {},
     "output_type": "execute_result"
    }
   ],
   "source": [
    "X = scipy.sparse.hstack([X1,X2])\n",
    "X"
   ]
  },
  {
   "cell_type": "markdown",
   "id": "b7a38b91-6e44-4a8d-9eaa-31b42d867848",
   "metadata": {},
   "source": [
    "## 2. Model training - regressino approach"
   ]
  },
  {
   "cell_type": "code",
   "execution_count": 22,
   "id": "e3e4a016-dd9e-4da7-a60b-60f2e03fcffc",
   "metadata": {
    "execution": {
     "iopub.execute_input": "2023-01-04T13:35:37.070344Z",
     "iopub.status.busy": "2023-01-04T13:35:37.070032Z",
     "iopub.status.idle": "2023-01-04T13:35:37.090602Z",
     "shell.execute_reply": "2023-01-04T13:35:37.089999Z",
     "shell.execute_reply.started": "2023-01-04T13:35:37.070313Z"
    },
    "tags": []
   },
   "outputs": [],
   "source": [
    "from sklearn.model_selection import train_test_split"
   ]
  },
  {
   "cell_type": "code",
   "execution_count": 23,
   "id": "a5ad0490-89e1-4c8c-8ab8-743a7100221f",
   "metadata": {
    "execution": {
     "iopub.execute_input": "2023-01-04T13:35:37.091841Z",
     "iopub.status.busy": "2023-01-04T13:35:37.091505Z",
     "iopub.status.idle": "2023-01-04T13:35:37.099109Z",
     "shell.execute_reply": "2023-01-04T13:35:37.098486Z",
     "shell.execute_reply.started": "2023-01-04T13:35:37.091818Z"
    },
    "tags": []
   },
   "outputs": [],
   "source": [
    "X_train_valid, X_test, y_train_valid, y_test = train_test_split(X, train[\"tm\"], test_size = 0.33, random_state = 20221126)"
   ]
  },
  {
   "cell_type": "code",
   "execution_count": 24,
   "id": "408a9a5f-9f04-4ac1-8a69-19f64a2986cc",
   "metadata": {
    "execution": {
     "iopub.execute_input": "2023-01-04T13:35:37.100487Z",
     "iopub.status.busy": "2023-01-04T13:35:37.100117Z",
     "iopub.status.idle": "2023-01-04T13:35:37.121622Z",
     "shell.execute_reply": "2023-01-04T13:35:37.120966Z",
     "shell.execute_reply.started": "2023-01-04T13:35:37.100454Z"
    },
    "tags": []
   },
   "outputs": [],
   "source": [
    "import xgboost"
   ]
  },
  {
   "cell_type": "markdown",
   "id": "4fdccebe-08e9-404b-9b59-7e6cf020732b",
   "metadata": {},
   "source": [
    "#### a. Apply gridsearch to optimise hyperparameters"
   ]
  },
  {
   "cell_type": "code",
   "execution_count": 25,
   "id": "5ac3df19-1c98-4f10-87e4-a5fee7898d7c",
   "metadata": {
    "execution": {
     "iopub.execute_input": "2023-01-04T13:35:37.122806Z",
     "iopub.status.busy": "2023-01-04T13:35:37.122507Z",
     "iopub.status.idle": "2023-01-04T13:35:37.125973Z",
     "shell.execute_reply": "2023-01-04T13:35:37.125377Z",
     "shell.execute_reply.started": "2023-01-04T13:35:37.122763Z"
    },
    "tags": []
   },
   "outputs": [],
   "source": [
    "from sklearn.model_selection import GridSearchCV, KFold"
   ]
  },
  {
   "cell_type": "code",
   "execution_count": 26,
   "id": "b98e792d-58ed-4cbb-a333-07f51e72f479",
   "metadata": {
    "execution": {
     "iopub.execute_input": "2023-01-04T13:35:37.127218Z",
     "iopub.status.busy": "2023-01-04T13:35:37.126944Z",
     "iopub.status.idle": "2023-01-04T13:35:37.131201Z",
     "shell.execute_reply": "2023-01-04T13:35:37.130550Z",
     "shell.execute_reply.started": "2023-01-04T13:35:37.127197Z"
    },
    "tags": []
   },
   "outputs": [],
   "source": [
    "kf = KFold(n_splits = 10, shuffle = True, random_state = 20221126)\n",
    "\n",
    "paras = {\n",
    "    #'min_child_weight': [1, 5, 10],\n",
    "    'gamma': [0.5, 1, 1.5, 2, 5],\n",
    "    #'subsample': [0.6, 0.8, 1.0],\n",
    "    #'colsample_bytree': [0.6, 0.8, 1.0],\n",
    "    'max_depth': [3, 4, 5]\n",
    "}"
   ]
  },
  {
   "cell_type": "code",
   "execution_count": 27,
   "id": "b75aa051-9cf8-4485-868b-1f866361607a",
   "metadata": {
    "execution": {
     "iopub.execute_input": "2023-01-04T13:35:37.132379Z",
     "iopub.status.busy": "2023-01-04T13:35:37.132067Z",
     "iopub.status.idle": "2023-01-04T13:35:37.136340Z",
     "shell.execute_reply": "2023-01-04T13:35:37.135631Z",
     "shell.execute_reply.started": "2023-01-04T13:35:37.132353Z"
    },
    "tags": []
   },
   "outputs": [],
   "source": [
    "model_1 = \\\n",
    "GridSearchCV(\n",
    "    estimator = xgboost.XGBRegressor(),\n",
    "    param_grid = paras,\n",
    "    scoring = \"neg_mean_squared_error\",\n",
    "    n_jobs = -1,\n",
    "    refit = True,\n",
    "    cv = kf,\n",
    "    verbose = 1\n",
    ")"
   ]
  },
  {
   "cell_type": "code",
   "execution_count": 28,
   "id": "b818c358-cbe9-498a-aa34-52c9ca0f4f0a",
   "metadata": {
    "execution": {
     "iopub.execute_input": "2023-01-04T13:35:37.137904Z",
     "iopub.status.busy": "2023-01-04T13:35:37.137354Z",
     "iopub.status.idle": "2023-01-04T13:37:05.196345Z",
     "shell.execute_reply": "2023-01-04T13:37:05.195379Z",
     "shell.execute_reply.started": "2023-01-04T13:35:37.137881Z"
    },
    "tags": []
   },
   "outputs": [
    {
     "name": "stdout",
     "output_type": "stream",
     "text": [
      "Fitting 10 folds for each of 15 candidates, totalling 150 fits\n"
     ]
    },
    {
     "data": {
      "text/html": [
       "<style>#sk-container-id-1 {color: black;background-color: white;}#sk-container-id-1 pre{padding: 0;}#sk-container-id-1 div.sk-toggleable {background-color: white;}#sk-container-id-1 label.sk-toggleable__label {cursor: pointer;display: block;width: 100%;margin-bottom: 0;padding: 0.3em;box-sizing: border-box;text-align: center;}#sk-container-id-1 label.sk-toggleable__label-arrow:before {content: \"▸\";float: left;margin-right: 0.25em;color: #696969;}#sk-container-id-1 label.sk-toggleable__label-arrow:hover:before {color: black;}#sk-container-id-1 div.sk-estimator:hover label.sk-toggleable__label-arrow:before {color: black;}#sk-container-id-1 div.sk-toggleable__content {max-height: 0;max-width: 0;overflow: hidden;text-align: left;background-color: #f0f8ff;}#sk-container-id-1 div.sk-toggleable__content pre {margin: 0.2em;color: black;border-radius: 0.25em;background-color: #f0f8ff;}#sk-container-id-1 input.sk-toggleable__control:checked~div.sk-toggleable__content {max-height: 200px;max-width: 100%;overflow: auto;}#sk-container-id-1 input.sk-toggleable__control:checked~label.sk-toggleable__label-arrow:before {content: \"▾\";}#sk-container-id-1 div.sk-estimator input.sk-toggleable__control:checked~label.sk-toggleable__label {background-color: #d4ebff;}#sk-container-id-1 div.sk-label input.sk-toggleable__control:checked~label.sk-toggleable__label {background-color: #d4ebff;}#sk-container-id-1 input.sk-hidden--visually {border: 0;clip: rect(1px 1px 1px 1px);clip: rect(1px, 1px, 1px, 1px);height: 1px;margin: -1px;overflow: hidden;padding: 0;position: absolute;width: 1px;}#sk-container-id-1 div.sk-estimator {font-family: monospace;background-color: #f0f8ff;border: 1px dotted black;border-radius: 0.25em;box-sizing: border-box;margin-bottom: 0.5em;}#sk-container-id-1 div.sk-estimator:hover {background-color: #d4ebff;}#sk-container-id-1 div.sk-parallel-item::after {content: \"\";width: 100%;border-bottom: 1px solid gray;flex-grow: 1;}#sk-container-id-1 div.sk-label:hover label.sk-toggleable__label {background-color: #d4ebff;}#sk-container-id-1 div.sk-serial::before {content: \"\";position: absolute;border-left: 1px solid gray;box-sizing: border-box;top: 0;bottom: 0;left: 50%;z-index: 0;}#sk-container-id-1 div.sk-serial {display: flex;flex-direction: column;align-items: center;background-color: white;padding-right: 0.2em;padding-left: 0.2em;position: relative;}#sk-container-id-1 div.sk-item {position: relative;z-index: 1;}#sk-container-id-1 div.sk-parallel {display: flex;align-items: stretch;justify-content: center;background-color: white;position: relative;}#sk-container-id-1 div.sk-item::before, #sk-container-id-1 div.sk-parallel-item::before {content: \"\";position: absolute;border-left: 1px solid gray;box-sizing: border-box;top: 0;bottom: 0;left: 50%;z-index: -1;}#sk-container-id-1 div.sk-parallel-item {display: flex;flex-direction: column;z-index: 1;position: relative;background-color: white;}#sk-container-id-1 div.sk-parallel-item:first-child::after {align-self: flex-end;width: 50%;}#sk-container-id-1 div.sk-parallel-item:last-child::after {align-self: flex-start;width: 50%;}#sk-container-id-1 div.sk-parallel-item:only-child::after {width: 0;}#sk-container-id-1 div.sk-dashed-wrapped {border: 1px dashed gray;margin: 0 0.4em 0.5em 0.4em;box-sizing: border-box;padding-bottom: 0.4em;background-color: white;}#sk-container-id-1 div.sk-label label {font-family: monospace;font-weight: bold;display: inline-block;line-height: 1.2em;}#sk-container-id-1 div.sk-label-container {text-align: center;}#sk-container-id-1 div.sk-container {/* jupyter's `normalize.less` sets `[hidden] { display: none; }` but bootstrap.min.css set `[hidden] { display: none !important; }` so we also need the `!important` here to be able to override the default hidden behavior on the sphinx rendered scikit-learn.org. See: https://github.com/scikit-learn/scikit-learn/issues/21755 */display: inline-block !important;position: relative;}#sk-container-id-1 div.sk-text-repr-fallback {display: none;}</style><div id=\"sk-container-id-1\" class=\"sk-top-container\"><div class=\"sk-text-repr-fallback\"><pre>GridSearchCV(cv=KFold(n_splits=10, random_state=20221126, shuffle=True),\n",
       "             estimator=XGBRegressor(base_score=None, booster=None,\n",
       "                                    callbacks=None, colsample_bylevel=None,\n",
       "                                    colsample_bynode=None,\n",
       "                                    colsample_bytree=None,\n",
       "                                    early_stopping_rounds=None,\n",
       "                                    enable_categorical=False, eval_metric=None,\n",
       "                                    feature_types=None, gamma=None, gpu_id=None,\n",
       "                                    grow_policy=None, importance_type=No...\n",
       "                                    max_cat_threshold=None,\n",
       "                                    max_cat_to_onehot=None, max_delta_step=None,\n",
       "                                    max_depth=None, max_leaves=None,\n",
       "                                    min_child_weight=None, missing=nan,\n",
       "                                    monotone_constraints=None, n_estimators=100,\n",
       "                                    n_jobs=None, num_parallel_tree=None,\n",
       "                                    predictor=None, random_state=None, ...),\n",
       "             n_jobs=-1,\n",
       "             param_grid={&#x27;gamma&#x27;: [0.5, 1, 1.5, 2, 5], &#x27;max_depth&#x27;: [3, 4, 5]},\n",
       "             scoring=&#x27;neg_mean_squared_error&#x27;, verbose=1)</pre><b>In a Jupyter environment, please rerun this cell to show the HTML representation or trust the notebook. <br />On GitHub, the HTML representation is unable to render, please try loading this page with nbviewer.org.</b></div><div class=\"sk-container\" hidden><div class=\"sk-item sk-dashed-wrapped\"><div class=\"sk-label-container\"><div class=\"sk-label sk-toggleable\"><input class=\"sk-toggleable__control sk-hidden--visually\" id=\"sk-estimator-id-1\" type=\"checkbox\" ><label for=\"sk-estimator-id-1\" class=\"sk-toggleable__label sk-toggleable__label-arrow\">GridSearchCV</label><div class=\"sk-toggleable__content\"><pre>GridSearchCV(cv=KFold(n_splits=10, random_state=20221126, shuffle=True),\n",
       "             estimator=XGBRegressor(base_score=None, booster=None,\n",
       "                                    callbacks=None, colsample_bylevel=None,\n",
       "                                    colsample_bynode=None,\n",
       "                                    colsample_bytree=None,\n",
       "                                    early_stopping_rounds=None,\n",
       "                                    enable_categorical=False, eval_metric=None,\n",
       "                                    feature_types=None, gamma=None, gpu_id=None,\n",
       "                                    grow_policy=None, importance_type=No...\n",
       "                                    max_cat_threshold=None,\n",
       "                                    max_cat_to_onehot=None, max_delta_step=None,\n",
       "                                    max_depth=None, max_leaves=None,\n",
       "                                    min_child_weight=None, missing=nan,\n",
       "                                    monotone_constraints=None, n_estimators=100,\n",
       "                                    n_jobs=None, num_parallel_tree=None,\n",
       "                                    predictor=None, random_state=None, ...),\n",
       "             n_jobs=-1,\n",
       "             param_grid={&#x27;gamma&#x27;: [0.5, 1, 1.5, 2, 5], &#x27;max_depth&#x27;: [3, 4, 5]},\n",
       "             scoring=&#x27;neg_mean_squared_error&#x27;, verbose=1)</pre></div></div></div><div class=\"sk-parallel\"><div class=\"sk-parallel-item\"><div class=\"sk-item\"><div class=\"sk-label-container\"><div class=\"sk-label sk-toggleable\"><input class=\"sk-toggleable__control sk-hidden--visually\" id=\"sk-estimator-id-2\" type=\"checkbox\" ><label for=\"sk-estimator-id-2\" class=\"sk-toggleable__label sk-toggleable__label-arrow\">estimator: XGBRegressor</label><div class=\"sk-toggleable__content\"><pre>XGBRegressor(base_score=None, booster=None, callbacks=None,\n",
       "             colsample_bylevel=None, colsample_bynode=None,\n",
       "             colsample_bytree=None, early_stopping_rounds=None,\n",
       "             enable_categorical=False, eval_metric=None, feature_types=None,\n",
       "             gamma=None, gpu_id=None, grow_policy=None, importance_type=None,\n",
       "             interaction_constraints=None, learning_rate=None, max_bin=None,\n",
       "             max_cat_threshold=None, max_cat_to_onehot=None,\n",
       "             max_delta_step=None, max_depth=None, max_leaves=None,\n",
       "             min_child_weight=None, missing=nan, monotone_constraints=None,\n",
       "             n_estimators=100, n_jobs=None, num_parallel_tree=None,\n",
       "             predictor=None, random_state=None, ...)</pre></div></div></div><div class=\"sk-serial\"><div class=\"sk-item\"><div class=\"sk-estimator sk-toggleable\"><input class=\"sk-toggleable__control sk-hidden--visually\" id=\"sk-estimator-id-3\" type=\"checkbox\" ><label for=\"sk-estimator-id-3\" class=\"sk-toggleable__label sk-toggleable__label-arrow\">XGBRegressor</label><div class=\"sk-toggleable__content\"><pre>XGBRegressor(base_score=None, booster=None, callbacks=None,\n",
       "             colsample_bylevel=None, colsample_bynode=None,\n",
       "             colsample_bytree=None, early_stopping_rounds=None,\n",
       "             enable_categorical=False, eval_metric=None, feature_types=None,\n",
       "             gamma=None, gpu_id=None, grow_policy=None, importance_type=None,\n",
       "             interaction_constraints=None, learning_rate=None, max_bin=None,\n",
       "             max_cat_threshold=None, max_cat_to_onehot=None,\n",
       "             max_delta_step=None, max_depth=None, max_leaves=None,\n",
       "             min_child_weight=None, missing=nan, monotone_constraints=None,\n",
       "             n_estimators=100, n_jobs=None, num_parallel_tree=None,\n",
       "             predictor=None, random_state=None, ...)</pre></div></div></div></div></div></div></div></div></div></div>"
      ],
      "text/plain": [
       "GridSearchCV(cv=KFold(n_splits=10, random_state=20221126, shuffle=True),\n",
       "             estimator=XGBRegressor(base_score=None, booster=None,\n",
       "                                    callbacks=None, colsample_bylevel=None,\n",
       "                                    colsample_bynode=None,\n",
       "                                    colsample_bytree=None,\n",
       "                                    early_stopping_rounds=None,\n",
       "                                    enable_categorical=False, eval_metric=None,\n",
       "                                    feature_types=None, gamma=None, gpu_id=None,\n",
       "                                    grow_policy=None, importance_type=No...\n",
       "                                    max_cat_threshold=None,\n",
       "                                    max_cat_to_onehot=None, max_delta_step=None,\n",
       "                                    max_depth=None, max_leaves=None,\n",
       "                                    min_child_weight=None, missing=nan,\n",
       "                                    monotone_constraints=None, n_estimators=100,\n",
       "                                    n_jobs=None, num_parallel_tree=None,\n",
       "                                    predictor=None, random_state=None, ...),\n",
       "             n_jobs=-1,\n",
       "             param_grid={'gamma': [0.5, 1, 1.5, 2, 5], 'max_depth': [3, 4, 5]},\n",
       "             scoring='neg_mean_squared_error', verbose=1)"
      ]
     },
     "execution_count": 28,
     "metadata": {},
     "output_type": "execute_result"
    }
   ],
   "source": [
    "model_1.fit(X_train_valid, y_train_valid)"
   ]
  },
  {
   "cell_type": "code",
   "execution_count": 29,
   "id": "db87817c-3514-46c9-9809-59db8c75e1e3",
   "metadata": {
    "execution": {
     "iopub.execute_input": "2023-01-04T13:37:05.201308Z",
     "iopub.status.busy": "2023-01-04T13:37:05.200993Z",
     "iopub.status.idle": "2023-01-04T13:37:05.221113Z",
     "shell.execute_reply": "2023-01-04T13:37:05.220371Z",
     "shell.execute_reply.started": "2023-01-04T13:37:05.201280Z"
    },
    "tags": []
   },
   "outputs": [
    {
     "data": {
      "text/html": [
       "<style>#sk-container-id-2 {color: black;background-color: white;}#sk-container-id-2 pre{padding: 0;}#sk-container-id-2 div.sk-toggleable {background-color: white;}#sk-container-id-2 label.sk-toggleable__label {cursor: pointer;display: block;width: 100%;margin-bottom: 0;padding: 0.3em;box-sizing: border-box;text-align: center;}#sk-container-id-2 label.sk-toggleable__label-arrow:before {content: \"▸\";float: left;margin-right: 0.25em;color: #696969;}#sk-container-id-2 label.sk-toggleable__label-arrow:hover:before {color: black;}#sk-container-id-2 div.sk-estimator:hover label.sk-toggleable__label-arrow:before {color: black;}#sk-container-id-2 div.sk-toggleable__content {max-height: 0;max-width: 0;overflow: hidden;text-align: left;background-color: #f0f8ff;}#sk-container-id-2 div.sk-toggleable__content pre {margin: 0.2em;color: black;border-radius: 0.25em;background-color: #f0f8ff;}#sk-container-id-2 input.sk-toggleable__control:checked~div.sk-toggleable__content {max-height: 200px;max-width: 100%;overflow: auto;}#sk-container-id-2 input.sk-toggleable__control:checked~label.sk-toggleable__label-arrow:before {content: \"▾\";}#sk-container-id-2 div.sk-estimator input.sk-toggleable__control:checked~label.sk-toggleable__label {background-color: #d4ebff;}#sk-container-id-2 div.sk-label input.sk-toggleable__control:checked~label.sk-toggleable__label {background-color: #d4ebff;}#sk-container-id-2 input.sk-hidden--visually {border: 0;clip: rect(1px 1px 1px 1px);clip: rect(1px, 1px, 1px, 1px);height: 1px;margin: -1px;overflow: hidden;padding: 0;position: absolute;width: 1px;}#sk-container-id-2 div.sk-estimator {font-family: monospace;background-color: #f0f8ff;border: 1px dotted black;border-radius: 0.25em;box-sizing: border-box;margin-bottom: 0.5em;}#sk-container-id-2 div.sk-estimator:hover {background-color: #d4ebff;}#sk-container-id-2 div.sk-parallel-item::after {content: \"\";width: 100%;border-bottom: 1px solid gray;flex-grow: 1;}#sk-container-id-2 div.sk-label:hover label.sk-toggleable__label {background-color: #d4ebff;}#sk-container-id-2 div.sk-serial::before {content: \"\";position: absolute;border-left: 1px solid gray;box-sizing: border-box;top: 0;bottom: 0;left: 50%;z-index: 0;}#sk-container-id-2 div.sk-serial {display: flex;flex-direction: column;align-items: center;background-color: white;padding-right: 0.2em;padding-left: 0.2em;position: relative;}#sk-container-id-2 div.sk-item {position: relative;z-index: 1;}#sk-container-id-2 div.sk-parallel {display: flex;align-items: stretch;justify-content: center;background-color: white;position: relative;}#sk-container-id-2 div.sk-item::before, #sk-container-id-2 div.sk-parallel-item::before {content: \"\";position: absolute;border-left: 1px solid gray;box-sizing: border-box;top: 0;bottom: 0;left: 50%;z-index: -1;}#sk-container-id-2 div.sk-parallel-item {display: flex;flex-direction: column;z-index: 1;position: relative;background-color: white;}#sk-container-id-2 div.sk-parallel-item:first-child::after {align-self: flex-end;width: 50%;}#sk-container-id-2 div.sk-parallel-item:last-child::after {align-self: flex-start;width: 50%;}#sk-container-id-2 div.sk-parallel-item:only-child::after {width: 0;}#sk-container-id-2 div.sk-dashed-wrapped {border: 1px dashed gray;margin: 0 0.4em 0.5em 0.4em;box-sizing: border-box;padding-bottom: 0.4em;background-color: white;}#sk-container-id-2 div.sk-label label {font-family: monospace;font-weight: bold;display: inline-block;line-height: 1.2em;}#sk-container-id-2 div.sk-label-container {text-align: center;}#sk-container-id-2 div.sk-container {/* jupyter's `normalize.less` sets `[hidden] { display: none; }` but bootstrap.min.css set `[hidden] { display: none !important; }` so we also need the `!important` here to be able to override the default hidden behavior on the sphinx rendered scikit-learn.org. See: https://github.com/scikit-learn/scikit-learn/issues/21755 */display: inline-block !important;position: relative;}#sk-container-id-2 div.sk-text-repr-fallback {display: none;}</style><div id=\"sk-container-id-2\" class=\"sk-top-container\"><div class=\"sk-text-repr-fallback\"><pre>XGBRegressor(base_score=0.5, booster=&#x27;gbtree&#x27;, callbacks=None,\n",
       "             colsample_bylevel=1, colsample_bynode=1, colsample_bytree=1,\n",
       "             early_stopping_rounds=None, enable_categorical=False,\n",
       "             eval_metric=None, feature_types=None, gamma=0.5, gpu_id=-1,\n",
       "             grow_policy=&#x27;depthwise&#x27;, importance_type=None,\n",
       "             interaction_constraints=&#x27;&#x27;, learning_rate=0.300000012, max_bin=256,\n",
       "             max_cat_threshold=64, max_cat_to_onehot=4, max_delta_step=0,\n",
       "             max_depth=5, max_leaves=0, min_child_weight=1, missing=nan,\n",
       "             monotone_constraints=&#x27;()&#x27;, n_estimators=100, n_jobs=0,\n",
       "             num_parallel_tree=1, predictor=&#x27;auto&#x27;, random_state=0, ...)</pre><b>In a Jupyter environment, please rerun this cell to show the HTML representation or trust the notebook. <br />On GitHub, the HTML representation is unable to render, please try loading this page with nbviewer.org.</b></div><div class=\"sk-container\" hidden><div class=\"sk-item\"><div class=\"sk-estimator sk-toggleable\"><input class=\"sk-toggleable__control sk-hidden--visually\" id=\"sk-estimator-id-4\" type=\"checkbox\" checked><label for=\"sk-estimator-id-4\" class=\"sk-toggleable__label sk-toggleable__label-arrow\">XGBRegressor</label><div class=\"sk-toggleable__content\"><pre>XGBRegressor(base_score=0.5, booster=&#x27;gbtree&#x27;, callbacks=None,\n",
       "             colsample_bylevel=1, colsample_bynode=1, colsample_bytree=1,\n",
       "             early_stopping_rounds=None, enable_categorical=False,\n",
       "             eval_metric=None, feature_types=None, gamma=0.5, gpu_id=-1,\n",
       "             grow_policy=&#x27;depthwise&#x27;, importance_type=None,\n",
       "             interaction_constraints=&#x27;&#x27;, learning_rate=0.300000012, max_bin=256,\n",
       "             max_cat_threshold=64, max_cat_to_onehot=4, max_delta_step=0,\n",
       "             max_depth=5, max_leaves=0, min_child_weight=1, missing=nan,\n",
       "             monotone_constraints=&#x27;()&#x27;, n_estimators=100, n_jobs=0,\n",
       "             num_parallel_tree=1, predictor=&#x27;auto&#x27;, random_state=0, ...)</pre></div></div></div></div></div>"
      ],
      "text/plain": [
       "XGBRegressor(base_score=0.5, booster='gbtree', callbacks=None,\n",
       "             colsample_bylevel=1, colsample_bynode=1, colsample_bytree=1,\n",
       "             early_stopping_rounds=None, enable_categorical=False,\n",
       "             eval_metric=None, feature_types=None, gamma=0.5, gpu_id=-1,\n",
       "             grow_policy='depthwise', importance_type=None,\n",
       "             interaction_constraints='', learning_rate=0.300000012, max_bin=256,\n",
       "             max_cat_threshold=64, max_cat_to_onehot=4, max_delta_step=0,\n",
       "             max_depth=5, max_leaves=0, min_child_weight=1, missing=nan,\n",
       "             monotone_constraints='()', n_estimators=100, n_jobs=0,\n",
       "             num_parallel_tree=1, predictor='auto', random_state=0, ...)"
      ]
     },
     "execution_count": 29,
     "metadata": {},
     "output_type": "execute_result"
    }
   ],
   "source": [
    "model_2 = model_1.best_estimator_\n",
    "model_2"
   ]
  },
  {
   "cell_type": "markdown",
   "id": "c18c5249-1dd6-4d6e-bd64-97012ab0b59b",
   "metadata": {},
   "source": [
    "#### b. Apply cross-validation to optimise parameters"
   ]
  },
  {
   "cell_type": "code",
   "execution_count": 30,
   "id": "c77a86d6-b98d-4a07-bf27-a8148c00692c",
   "metadata": {
    "execution": {
     "iopub.execute_input": "2023-01-04T13:37:05.225539Z",
     "iopub.status.busy": "2023-01-04T13:37:05.225240Z",
     "iopub.status.idle": "2023-01-04T13:37:05.232650Z",
     "shell.execute_reply": "2023-01-04T13:37:05.231923Z",
     "shell.execute_reply.started": "2023-01-04T13:37:05.225514Z"
    },
    "tags": []
   },
   "outputs": [],
   "source": [
    "from sklearn.model_selection import cross_validate"
   ]
  },
  {
   "cell_type": "code",
   "execution_count": 31,
   "id": "44d42dd5-d38e-4a29-ad8d-0415f8d89a2d",
   "metadata": {
    "execution": {
     "iopub.execute_input": "2023-01-04T13:37:05.236986Z",
     "iopub.status.busy": "2023-01-04T13:37:05.236698Z",
     "iopub.status.idle": "2023-01-04T13:37:12.856615Z",
     "shell.execute_reply": "2023-01-04T13:37:12.855727Z",
     "shell.execute_reply.started": "2023-01-04T13:37:05.236960Z"
    },
    "tags": []
   },
   "outputs": [],
   "source": [
    "cv_scores = cross_validate(\n",
    "    estimator = model_2,\n",
    "    X = X_train_valid, y = y_train_valid,\n",
    "    scoring = \"neg_mean_squared_error\",\n",
    "    n_jobs = -1,\n",
    "    cv = kf,\n",
    "    return_estimator = True)"
   ]
  },
  {
   "cell_type": "code",
   "execution_count": 32,
   "id": "85a5030d-29cf-4684-acac-483f41edf0b5",
   "metadata": {
    "execution": {
     "iopub.execute_input": "2023-01-04T13:37:12.865532Z",
     "iopub.status.busy": "2023-01-04T13:37:12.857643Z",
     "iopub.status.idle": "2023-01-04T13:37:12.872676Z",
     "shell.execute_reply": "2023-01-04T13:37:12.871690Z",
     "shell.execute_reply.started": "2023-01-04T13:37:12.865487Z"
    },
    "tags": []
   },
   "outputs": [
    {
     "data": {
      "text/plain": [
       "array([-194.48861832, -179.63478749, -181.91744084, -186.67399674,\n",
       "       -182.73688367, -191.60272355, -171.17056048, -178.28157655,\n",
       "       -195.26704553, -172.24072938])"
      ]
     },
     "execution_count": 32,
     "metadata": {},
     "output_type": "execute_result"
    }
   ],
   "source": [
    "cv_scores[\"test_score\"]"
   ]
  },
  {
   "cell_type": "code",
   "execution_count": 33,
   "id": "f63a46a3-56be-485f-a747-22a1e4cc092d",
   "metadata": {
    "execution": {
     "iopub.execute_input": "2023-01-04T13:37:12.884432Z",
     "iopub.status.busy": "2023-01-04T13:37:12.874101Z",
     "iopub.status.idle": "2023-01-04T13:37:12.889792Z",
     "shell.execute_reply": "2023-01-04T13:37:12.888866Z",
     "shell.execute_reply.started": "2023-01-04T13:37:12.884394Z"
    },
    "tags": []
   },
   "outputs": [
    {
     "name": "stdout",
     "output_type": "stream",
     "text": [
      "On validation sets, the best negative MSE is -171.17056048082267 at estimator number 6\n"
     ]
    }
   ],
   "source": [
    "print(\"On validation sets, the best negative MSE is {} at estimator number {}\".format(cv_scores[\"test_score\"].max(),cv_scores[\"test_score\"].argmax()))"
   ]
  },
  {
   "cell_type": "code",
   "execution_count": 34,
   "id": "e037dd5e-7b9a-4b6c-9691-666db71a75ab",
   "metadata": {
    "execution": {
     "iopub.execute_input": "2023-01-04T13:37:12.891036Z",
     "iopub.status.busy": "2023-01-04T13:37:12.890718Z",
     "iopub.status.idle": "2023-01-04T13:37:12.922575Z",
     "shell.execute_reply": "2023-01-04T13:37:12.921731Z",
     "shell.execute_reply.started": "2023-01-04T13:37:12.891007Z"
    },
    "tags": []
   },
   "outputs": [
    {
     "data": {
      "text/html": [
       "<style>#sk-container-id-3 {color: black;background-color: white;}#sk-container-id-3 pre{padding: 0;}#sk-container-id-3 div.sk-toggleable {background-color: white;}#sk-container-id-3 label.sk-toggleable__label {cursor: pointer;display: block;width: 100%;margin-bottom: 0;padding: 0.3em;box-sizing: border-box;text-align: center;}#sk-container-id-3 label.sk-toggleable__label-arrow:before {content: \"▸\";float: left;margin-right: 0.25em;color: #696969;}#sk-container-id-3 label.sk-toggleable__label-arrow:hover:before {color: black;}#sk-container-id-3 div.sk-estimator:hover label.sk-toggleable__label-arrow:before {color: black;}#sk-container-id-3 div.sk-toggleable__content {max-height: 0;max-width: 0;overflow: hidden;text-align: left;background-color: #f0f8ff;}#sk-container-id-3 div.sk-toggleable__content pre {margin: 0.2em;color: black;border-radius: 0.25em;background-color: #f0f8ff;}#sk-container-id-3 input.sk-toggleable__control:checked~div.sk-toggleable__content {max-height: 200px;max-width: 100%;overflow: auto;}#sk-container-id-3 input.sk-toggleable__control:checked~label.sk-toggleable__label-arrow:before {content: \"▾\";}#sk-container-id-3 div.sk-estimator input.sk-toggleable__control:checked~label.sk-toggleable__label {background-color: #d4ebff;}#sk-container-id-3 div.sk-label input.sk-toggleable__control:checked~label.sk-toggleable__label {background-color: #d4ebff;}#sk-container-id-3 input.sk-hidden--visually {border: 0;clip: rect(1px 1px 1px 1px);clip: rect(1px, 1px, 1px, 1px);height: 1px;margin: -1px;overflow: hidden;padding: 0;position: absolute;width: 1px;}#sk-container-id-3 div.sk-estimator {font-family: monospace;background-color: #f0f8ff;border: 1px dotted black;border-radius: 0.25em;box-sizing: border-box;margin-bottom: 0.5em;}#sk-container-id-3 div.sk-estimator:hover {background-color: #d4ebff;}#sk-container-id-3 div.sk-parallel-item::after {content: \"\";width: 100%;border-bottom: 1px solid gray;flex-grow: 1;}#sk-container-id-3 div.sk-label:hover label.sk-toggleable__label {background-color: #d4ebff;}#sk-container-id-3 div.sk-serial::before {content: \"\";position: absolute;border-left: 1px solid gray;box-sizing: border-box;top: 0;bottom: 0;left: 50%;z-index: 0;}#sk-container-id-3 div.sk-serial {display: flex;flex-direction: column;align-items: center;background-color: white;padding-right: 0.2em;padding-left: 0.2em;position: relative;}#sk-container-id-3 div.sk-item {position: relative;z-index: 1;}#sk-container-id-3 div.sk-parallel {display: flex;align-items: stretch;justify-content: center;background-color: white;position: relative;}#sk-container-id-3 div.sk-item::before, #sk-container-id-3 div.sk-parallel-item::before {content: \"\";position: absolute;border-left: 1px solid gray;box-sizing: border-box;top: 0;bottom: 0;left: 50%;z-index: -1;}#sk-container-id-3 div.sk-parallel-item {display: flex;flex-direction: column;z-index: 1;position: relative;background-color: white;}#sk-container-id-3 div.sk-parallel-item:first-child::after {align-self: flex-end;width: 50%;}#sk-container-id-3 div.sk-parallel-item:last-child::after {align-self: flex-start;width: 50%;}#sk-container-id-3 div.sk-parallel-item:only-child::after {width: 0;}#sk-container-id-3 div.sk-dashed-wrapped {border: 1px dashed gray;margin: 0 0.4em 0.5em 0.4em;box-sizing: border-box;padding-bottom: 0.4em;background-color: white;}#sk-container-id-3 div.sk-label label {font-family: monospace;font-weight: bold;display: inline-block;line-height: 1.2em;}#sk-container-id-3 div.sk-label-container {text-align: center;}#sk-container-id-3 div.sk-container {/* jupyter's `normalize.less` sets `[hidden] { display: none; }` but bootstrap.min.css set `[hidden] { display: none !important; }` so we also need the `!important` here to be able to override the default hidden behavior on the sphinx rendered scikit-learn.org. See: https://github.com/scikit-learn/scikit-learn/issues/21755 */display: inline-block !important;position: relative;}#sk-container-id-3 div.sk-text-repr-fallback {display: none;}</style><div id=\"sk-container-id-3\" class=\"sk-top-container\"><div class=\"sk-text-repr-fallback\"><pre>XGBRegressor(base_score=0.5, booster=&#x27;gbtree&#x27;, callbacks=None,\n",
       "             colsample_bylevel=1, colsample_bynode=1, colsample_bytree=1,\n",
       "             early_stopping_rounds=None, enable_categorical=False,\n",
       "             eval_metric=None, feature_types=None, gamma=0.5, gpu_id=-1,\n",
       "             grow_policy=&#x27;depthwise&#x27;, importance_type=None,\n",
       "             interaction_constraints=&#x27;&#x27;, learning_rate=0.300000012, max_bin=256,\n",
       "             max_cat_threshold=64, max_cat_to_onehot=4, max_delta_step=0,\n",
       "             max_depth=5, max_leaves=0, min_child_weight=1, missing=nan,\n",
       "             monotone_constraints=&#x27;()&#x27;, n_estimators=100, n_jobs=0,\n",
       "             num_parallel_tree=1, predictor=&#x27;auto&#x27;, random_state=0, ...)</pre><b>In a Jupyter environment, please rerun this cell to show the HTML representation or trust the notebook. <br />On GitHub, the HTML representation is unable to render, please try loading this page with nbviewer.org.</b></div><div class=\"sk-container\" hidden><div class=\"sk-item\"><div class=\"sk-estimator sk-toggleable\"><input class=\"sk-toggleable__control sk-hidden--visually\" id=\"sk-estimator-id-5\" type=\"checkbox\" checked><label for=\"sk-estimator-id-5\" class=\"sk-toggleable__label sk-toggleable__label-arrow\">XGBRegressor</label><div class=\"sk-toggleable__content\"><pre>XGBRegressor(base_score=0.5, booster=&#x27;gbtree&#x27;, callbacks=None,\n",
       "             colsample_bylevel=1, colsample_bynode=1, colsample_bytree=1,\n",
       "             early_stopping_rounds=None, enable_categorical=False,\n",
       "             eval_metric=None, feature_types=None, gamma=0.5, gpu_id=-1,\n",
       "             grow_policy=&#x27;depthwise&#x27;, importance_type=None,\n",
       "             interaction_constraints=&#x27;&#x27;, learning_rate=0.300000012, max_bin=256,\n",
       "             max_cat_threshold=64, max_cat_to_onehot=4, max_delta_step=0,\n",
       "             max_depth=5, max_leaves=0, min_child_weight=1, missing=nan,\n",
       "             monotone_constraints=&#x27;()&#x27;, n_estimators=100, n_jobs=0,\n",
       "             num_parallel_tree=1, predictor=&#x27;auto&#x27;, random_state=0, ...)</pre></div></div></div></div></div>"
      ],
      "text/plain": [
       "XGBRegressor(base_score=0.5, booster='gbtree', callbacks=None,\n",
       "             colsample_bylevel=1, colsample_bynode=1, colsample_bytree=1,\n",
       "             early_stopping_rounds=None, enable_categorical=False,\n",
       "             eval_metric=None, feature_types=None, gamma=0.5, gpu_id=-1,\n",
       "             grow_policy='depthwise', importance_type=None,\n",
       "             interaction_constraints='', learning_rate=0.300000012, max_bin=256,\n",
       "             max_cat_threshold=64, max_cat_to_onehot=4, max_delta_step=0,\n",
       "             max_depth=5, max_leaves=0, min_child_weight=1, missing=nan,\n",
       "             monotone_constraints='()', n_estimators=100, n_jobs=0,\n",
       "             num_parallel_tree=1, predictor='auto', random_state=0, ...)"
      ]
     },
     "execution_count": 34,
     "metadata": {},
     "output_type": "execute_result"
    }
   ],
   "source": [
    "model_3 = cv_scores[\"estimator\"][cv_scores[\"test_score\"].argmax()]\n",
    "model_3"
   ]
  },
  {
   "cell_type": "markdown",
   "id": "7d838872-6785-4baf-bcdb-9cf294dbe6dc",
   "metadata": {},
   "source": [
    "#### c. Used tuned model to predict"
   ]
  },
  {
   "cell_type": "code",
   "execution_count": 35,
   "id": "c7eaef6c-5f6c-495d-918c-3bc4e55ecc50",
   "metadata": {
    "execution": {
     "iopub.execute_input": "2023-01-04T13:37:12.924742Z",
     "iopub.status.busy": "2023-01-04T13:37:12.924141Z",
     "iopub.status.idle": "2023-01-04T13:37:12.928672Z",
     "shell.execute_reply": "2023-01-04T13:37:12.927768Z",
     "shell.execute_reply.started": "2023-01-04T13:37:12.924709Z"
    },
    "tags": []
   },
   "outputs": [],
   "source": [
    "from sklearn.metrics import mean_squared_error"
   ]
  },
  {
   "cell_type": "code",
   "execution_count": 36,
   "id": "b2499e65-9c65-4a3d-9321-8cd44db2b844",
   "metadata": {
    "execution": {
     "iopub.execute_input": "2023-01-04T13:37:12.930880Z",
     "iopub.status.busy": "2023-01-04T13:37:12.930171Z",
     "iopub.status.idle": "2023-01-04T13:37:13.008192Z",
     "shell.execute_reply": "2023-01-04T13:37:13.006810Z",
     "shell.execute_reply.started": "2023-01-04T13:37:12.930847Z"
    },
    "tags": []
   },
   "outputs": [
    {
     "name": "stdout",
     "output_type": "stream",
     "text": [
      "On the test set, the negative MSE is -180.54462516096038\n"
     ]
    }
   ],
   "source": [
    "y_pred = model_3.predict(X_test)\n",
    "\n",
    "print(\"On the test set, the negative MSE is {}\".format(-1 * mean_squared_error(y_pred, y_test)))"
   ]
  },
  {
   "cell_type": "markdown",
   "id": "e1068108-3c6b-4356-a256-0a5bb56a536b",
   "metadata": {},
   "source": [
    "#### d. Make predictions on actual test set"
   ]
  },
  {
   "cell_type": "code",
   "execution_count": 37,
   "id": "03289d4d-86b2-4ff2-bf12-25fbb215b045",
   "metadata": {
    "execution": {
     "iopub.execute_input": "2023-01-04T13:37:13.022678Z",
     "iopub.status.busy": "2023-01-04T13:37:13.017990Z",
     "iopub.status.idle": "2023-01-04T13:37:13.037271Z",
     "shell.execute_reply": "2023-01-04T13:37:13.036018Z",
     "shell.execute_reply.started": "2023-01-04T13:37:13.022636Z"
    }
   },
   "outputs": [
    {
     "data": {
      "text/plain": [
       "(31390, 4)"
      ]
     },
     "execution_count": 37,
     "metadata": {},
     "output_type": "execute_result"
    }
   ],
   "source": [
    "train.shape"
   ]
  },
  {
   "cell_type": "code",
   "execution_count": 38,
   "id": "f0d5c3bb-9d6e-469e-b24d-a8de4a985cb9",
   "metadata": {
    "execution": {
     "iopub.execute_input": "2023-01-04T13:37:13.046513Z",
     "iopub.status.busy": "2023-01-04T13:37:13.046201Z",
     "iopub.status.idle": "2023-01-04T13:37:13.052060Z",
     "shell.execute_reply": "2023-01-04T13:37:13.051130Z",
     "shell.execute_reply.started": "2023-01-04T13:37:13.046485Z"
    }
   },
   "outputs": [
    {
     "data": {
      "text/plain": [
       "(2413, 4)"
      ]
     },
     "execution_count": 38,
     "metadata": {},
     "output_type": "execute_result"
    }
   ],
   "source": [
    "test_set.shape"
   ]
  },
  {
   "cell_type": "code",
   "execution_count": 39,
   "id": "90cef39d-a78c-4919-92e2-646bf8006932",
   "metadata": {
    "execution": {
     "iopub.execute_input": "2023-01-04T13:37:13.053557Z",
     "iopub.status.busy": "2023-01-04T13:37:13.053150Z",
     "iopub.status.idle": "2023-01-04T13:37:13.224764Z",
     "shell.execute_reply": "2023-01-04T13:37:13.223800Z",
     "shell.execute_reply.started": "2023-01-04T13:37:13.053528Z"
    },
    "tags": []
   },
   "outputs": [
    {
     "data": {
      "text/plain": [
       "<2413x31393 sparse matrix of type '<class 'numpy.float64'>'\n",
       "\twith 2413 stored elements in Compressed Sparse Row format>"
      ]
     },
     "execution_count": 39,
     "metadata": {},
     "output_type": "execute_result"
    }
   ],
   "source": [
    "testX1 = encoder.fit_transform(pd.concat([train,test_set], axis = \"index\")[[\"protein_sequence\"]])\n",
    "testX1 = testX1[len(train):]\n",
    "testX1"
   ]
  },
  {
   "cell_type": "code",
   "execution_count": 40,
   "id": "56769c4d-30b6-4ace-a971-8b13e5989d00",
   "metadata": {
    "execution": {
     "iopub.execute_input": "2023-01-04T13:37:13.226727Z",
     "iopub.status.busy": "2023-01-04T13:37:13.226383Z",
     "iopub.status.idle": "2023-01-04T13:37:13.235992Z",
     "shell.execute_reply": "2023-01-04T13:37:13.234572Z",
     "shell.execute_reply.started": "2023-01-04T13:37:13.226694Z"
    },
    "tags": []
   },
   "outputs": [],
   "source": [
    "test_df = scipy.sparse.hstack([testX1, test_set[[\"pH\"]]])"
   ]
  },
  {
   "cell_type": "code",
   "execution_count": 41,
   "id": "ee0bf255-f33f-4a3a-82b5-a229908e099c",
   "metadata": {
    "execution": {
     "iopub.execute_input": "2023-01-04T13:37:13.241506Z",
     "iopub.status.busy": "2023-01-04T13:37:13.241232Z",
     "iopub.status.idle": "2023-01-04T13:37:13.248672Z",
     "shell.execute_reply": "2023-01-04T13:37:13.247908Z",
     "shell.execute_reply.started": "2023-01-04T13:37:13.241486Z"
    },
    "tags": []
   },
   "outputs": [],
   "source": [
    "predictions = model_3.predict(test_df)"
   ]
  },
  {
   "cell_type": "code",
   "execution_count": 42,
   "id": "532d7d5e-e89e-476f-95f9-2d5b87b51cb8",
   "metadata": {
    "execution": {
     "iopub.execute_input": "2023-01-04T13:37:13.250171Z",
     "iopub.status.busy": "2023-01-04T13:37:13.249755Z",
     "iopub.status.idle": "2023-01-04T13:37:13.256290Z",
     "shell.execute_reply": "2023-01-04T13:37:13.255437Z",
     "shell.execute_reply.started": "2023-01-04T13:37:13.250139Z"
    },
    "tags": []
   },
   "outputs": [
    {
     "data": {
      "text/plain": [
       "array([49.031826, 49.031826, 49.031826, ..., 49.031826, 49.031826,\n",
       "       49.031826], dtype=float32)"
      ]
     },
     "execution_count": 42,
     "metadata": {},
     "output_type": "execute_result"
    }
   ],
   "source": [
    "predictions"
   ]
  },
  {
   "cell_type": "code",
   "execution_count": 43,
   "id": "8986343e-0b74-4ab7-bd05-dc5d6ec1af95",
   "metadata": {
    "execution": {
     "iopub.execute_input": "2023-01-04T13:37:13.258024Z",
     "iopub.status.busy": "2023-01-04T13:37:13.257457Z",
     "iopub.status.idle": "2023-01-04T13:37:13.264515Z",
     "shell.execute_reply": "2023-01-04T13:37:13.263784Z",
     "shell.execute_reply.started": "2023-01-04T13:37:13.257992Z"
    },
    "tags": []
   },
   "outputs": [],
   "source": [
    "toSubmit = pd.concat([pd.DataFrame(test_set[\"seq_id\"]), pd.DataFrame(predictions)], axis = \"columns\")\n",
    "toSubmit = toSubmit.rename(columns = {0:\"tm\"})"
   ]
  },
  {
   "cell_type": "code",
   "execution_count": 44,
   "id": "65e9ad31-638f-4466-9474-f8da0c3fe9c5",
   "metadata": {
    "execution": {
     "iopub.execute_input": "2023-01-04T13:37:13.266152Z",
     "iopub.status.busy": "2023-01-04T13:37:13.265650Z",
     "iopub.status.idle": "2023-01-04T13:37:13.291668Z",
     "shell.execute_reply": "2023-01-04T13:37:13.290869Z",
     "shell.execute_reply.started": "2023-01-04T13:37:13.266120Z"
    },
    "tags": []
   },
   "outputs": [],
   "source": [
    "toSubmit.to_csv(\"to_submit.csv\", index = False)"
   ]
  },
  {
   "cell_type": "code",
   "execution_count": null,
   "id": "c45acac2-1afd-41d8-ab5d-523eb789a655",
   "metadata": {},
   "outputs": [],
   "source": []
  }
 ],
 "metadata": {
  "kernelspec": {
   "display_name": "saturn (Python 3)",
   "language": "python",
   "name": "python3"
  },
  "language_info": {
   "codemirror_mode": {
    "name": "ipython",
    "version": 3
   },
   "file_extension": ".py",
   "mimetype": "text/x-python",
   "name": "python",
   "nbconvert_exporter": "python",
   "pygments_lexer": "ipython3",
   "version": "3.9.15"
  }
 },
 "nbformat": 4,
 "nbformat_minor": 5
}
